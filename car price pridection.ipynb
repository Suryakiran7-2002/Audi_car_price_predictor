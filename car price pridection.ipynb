{
 "cells": [
  {
   "cell_type": "code",
   "execution_count": 455,
   "metadata": {},
   "outputs": [],
   "source": [
    "import numpy as np\n",
    "import pandas as pd\n",
    "import matplotlib.pyplot as plt\n",
    "import sklearn as sk"
   ]
  },
  {
   "cell_type": "code",
   "execution_count": 456,
   "metadata": {},
   "outputs": [
    {
     "data": {
      "text/html": [
       "<div>\n",
       "<style scoped>\n",
       "    .dataframe tbody tr th:only-of-type {\n",
       "        vertical-align: middle;\n",
       "    }\n",
       "\n",
       "    .dataframe tbody tr th {\n",
       "        vertical-align: top;\n",
       "    }\n",
       "\n",
       "    .dataframe thead th {\n",
       "        text-align: right;\n",
       "    }\n",
       "</style>\n",
       "<table border=\"1\" class=\"dataframe\">\n",
       "  <thead>\n",
       "    <tr style=\"text-align: right;\">\n",
       "      <th></th>\n",
       "      <th>year</th>\n",
       "      <th>mileage</th>\n",
       "      <th>tax</th>\n",
       "      <th>mpg</th>\n",
       "      <th>engineSize</th>\n",
       "      <th>price</th>\n",
       "    </tr>\n",
       "  </thead>\n",
       "  <tbody>\n",
       "    <tr>\n",
       "      <th>0</th>\n",
       "      <td>2017</td>\n",
       "      <td>15735</td>\n",
       "      <td>150</td>\n",
       "      <td>55.4</td>\n",
       "      <td>1.4</td>\n",
       "      <td>12500</td>\n",
       "    </tr>\n",
       "    <tr>\n",
       "      <th>1</th>\n",
       "      <td>2016</td>\n",
       "      <td>36203</td>\n",
       "      <td>20</td>\n",
       "      <td>64.2</td>\n",
       "      <td>2.0</td>\n",
       "      <td>16500</td>\n",
       "    </tr>\n",
       "    <tr>\n",
       "      <th>2</th>\n",
       "      <td>2016</td>\n",
       "      <td>29946</td>\n",
       "      <td>30</td>\n",
       "      <td>55.4</td>\n",
       "      <td>1.4</td>\n",
       "      <td>11000</td>\n",
       "    </tr>\n",
       "    <tr>\n",
       "      <th>3</th>\n",
       "      <td>2017</td>\n",
       "      <td>25952</td>\n",
       "      <td>145</td>\n",
       "      <td>67.3</td>\n",
       "      <td>2.0</td>\n",
       "      <td>16800</td>\n",
       "    </tr>\n",
       "    <tr>\n",
       "      <th>4</th>\n",
       "      <td>2019</td>\n",
       "      <td>1998</td>\n",
       "      <td>145</td>\n",
       "      <td>49.6</td>\n",
       "      <td>1.0</td>\n",
       "      <td>17300</td>\n",
       "    </tr>\n",
       "  </tbody>\n",
       "</table>\n",
       "</div>"
      ],
      "text/plain": [
       "   year  mileage  tax   mpg  engineSize  price\n",
       "0  2017    15735  150  55.4         1.4  12500\n",
       "1  2016    36203   20  64.2         2.0  16500\n",
       "2  2016    29946   30  55.4         1.4  11000\n",
       "3  2017    25952  145  67.3         2.0  16800\n",
       "4  2019     1998  145  49.6         1.0  17300"
      ]
     },
     "execution_count": 456,
     "metadata": {},
     "output_type": "execute_result"
    }
   ],
   "source": [
    "data = pd.read_csv('C://Users//ksury//Desktop//ec lrs//audi.csv')\n",
    "data.head()"
   ]
  },
  {
   "cell_type": "code",
   "execution_count": null,
   "metadata": {},
   "outputs": [],
   "source": [
    "\n"
   ]
  },
  {
   "cell_type": "code",
   "execution_count": 457,
   "metadata": {},
   "outputs": [
    {
     "data": {
      "text/plain": [
       "<matplotlib.collections.PathCollection at 0x27df24ad220>"
      ]
     },
     "execution_count": 457,
     "metadata": {},
     "output_type": "execute_result"
    },
    {
     "data": {
      "image/png": "[encoded data removed]",
      "text/plain": [
       "<Figure size 432x288 with 1 Axes>"
      ]
     },
     "metadata": {
      "needs_background": "light"
     },
     "output_type": "display_data"
    }
   ],
   "source": [
    "plt.scatter(data['year'],data['price'])"
   ]
  },
  {
   "cell_type": "code",
   "execution_count": 458,
   "metadata": {},
   "outputs": [
    {
     "data": {
      "text/plain": [
       "<matplotlib.collections.PathCollection at 0x27df2385ee0>"
      ]
     },
     "execution_count": 458,
     "metadata": {},
     "output_type": "execute_result"
    },
    {
     "data": {
      "image/png": "[encoded data removed]",
      "text/plain": [
       "<Figure size 432x288 with 1 Axes>"
      ]
     },
     "metadata": {
      "needs_background": "light"
     },
     "output_type": "display_data"
    }
   ],
   "source": [
    "plt.scatter(data['mileage'],data['price'])"
   ]
  },
  {
   "cell_type": "code",
   "execution_count": 459,
   "metadata": {},
   "outputs": [
    {
     "data": {
      "text/html": [
       "<div>\n",
       "<style scoped>\n",
       "    .dataframe tbody tr th:only-of-type {\n",
       "        vertical-align: middle;\n",
       "    }\n",
       "\n",
       "    .dataframe tbody tr th {\n",
       "        vertical-align: top;\n",
       "    }\n",
       "\n",
       "    .dataframe thead th {\n",
       "        text-align: right;\n",
       "    }\n",
       "</style>\n",
       "<table border=\"1\" class=\"dataframe\">\n",
       "  <thead>\n",
       "    <tr style=\"text-align: right;\">\n",
       "      <th></th>\n",
       "      <th>year</th>\n",
       "      <th>mileage</th>\n",
       "      <th>tax</th>\n",
       "      <th>mpg</th>\n",
       "      <th>engineSize</th>\n",
       "      <th>price</th>\n",
       "    </tr>\n",
       "  </thead>\n",
       "  <tbody>\n",
       "    <tr>\n",
       "      <th>year</th>\n",
       "      <td>1.000000</td>\n",
       "      <td>-0.789667</td>\n",
       "      <td>0.093066</td>\n",
       "      <td>-0.351281</td>\n",
       "      <td>-0.031582</td>\n",
       "      <td>0.592581</td>\n",
       "    </tr>\n",
       "    <tr>\n",
       "      <th>mileage</th>\n",
       "      <td>-0.789667</td>\n",
       "      <td>1.000000</td>\n",
       "      <td>-0.166547</td>\n",
       "      <td>0.395103</td>\n",
       "      <td>0.070710</td>\n",
       "      <td>-0.535357</td>\n",
       "    </tr>\n",
       "    <tr>\n",
       "      <th>tax</th>\n",
       "      <td>0.093066</td>\n",
       "      <td>-0.166547</td>\n",
       "      <td>1.000000</td>\n",
       "      <td>-0.635909</td>\n",
       "      <td>0.393075</td>\n",
       "      <td>0.356157</td>\n",
       "    </tr>\n",
       "    <tr>\n",
       "      <th>mpg</th>\n",
       "      <td>-0.351281</td>\n",
       "      <td>0.395103</td>\n",
       "      <td>-0.635909</td>\n",
       "      <td>1.000000</td>\n",
       "      <td>-0.365621</td>\n",
       "      <td>-0.600334</td>\n",
       "    </tr>\n",
       "    <tr>\n",
       "      <th>engineSize</th>\n",
       "      <td>-0.031582</td>\n",
       "      <td>0.070710</td>\n",
       "      <td>0.393075</td>\n",
       "      <td>-0.365621</td>\n",
       "      <td>1.000000</td>\n",
       "      <td>0.591262</td>\n",
       "    </tr>\n",
       "    <tr>\n",
       "      <th>price</th>\n",
       "      <td>0.592581</td>\n",
       "      <td>-0.535357</td>\n",
       "      <td>0.356157</td>\n",
       "      <td>-0.600334</td>\n",
       "      <td>0.591262</td>\n",
       "      <td>1.000000</td>\n",
       "    </tr>\n",
       "  </tbody>\n",
       "</table>\n",
       "</div>"
      ],
      "text/plain": [
       "                year   mileage       tax       mpg  engineSize     price\n",
       "year        1.000000 -0.789667  0.093066 -0.351281   -0.031582  0.592581\n",
       "mileage    -0.789667  1.000000 -0.166547  0.395103    0.070710 -0.535357\n",
       "tax         0.093066 -0.166547  1.000000 -0.635909    0.393075  0.356157\n",
       "mpg        -0.351281  0.395103 -0.635909  1.000000   -0.365621 -0.600334\n",
       "engineSize -0.031582  0.070710  0.393075 -0.365621    1.000000  0.591262\n",
       "price       0.592581 -0.535357  0.356157 -0.600334    0.591262  1.000000"
      ]
     },
     "execution_count": 459,
     "metadata": {},
     "output_type": "execute_result"
    }
   ],
   "source": [
    "data.corr()"
   ]
  },
  {
   "cell_type": "code",
   "execution_count": 481,
   "metadata": {},
   "outputs": [],
   "source": [
    "year2 =data['year'] * 2\n",
    "year2.head()\n",
    "year2 = (year2 - year2.mean()) / year2.std()\n",
    "\n",
    "m2 = data['mileage'] * 2\n",
    "nm2 = (m2 - m2.mean()) / m2.std()\n",
    "\n",
    "en2 = data['engineSize'] * 2\n",
    "nen2 = (en2 - en2.mean()) / en2.std()\n",
    "\n",
    "mp2 = data['year'] * 3\n",
    "nmp2 = (mp2 - mp2.mean()) / mp2.std()\n",
    "\n",
    "mmp2 = data['engineSize'] * 3\n",
    "nmmp2 = (mmp2 - mmp2.mean()) / mmp2.std()\n",
    "\n"
   ]
  },
  {
   "cell_type": "code",
   "execution_count": 482,
   "metadata": {},
   "outputs": [
    {
     "data": {
      "text/plain": [
       "<matplotlib.collections.PathCollection at 0x27df0f5ad00>"
      ]
     },
     "execution_count": 482,
     "metadata": {},
     "output_type": "execute_result"
    },
    {
     "data": {
      "image/png": "[encoded data removed]",
      "text/plain": [
       "<Figure size 432x288 with 1 Axes>"
      ]
     },
     "metadata": {
      "needs_background": "light"
     },
     "output_type": "display_data"
    }
   ],
   "source": [
    "plt.scatter(year2,data['price'])"
   ]
  },
  {
   "cell_type": "code",
   "execution_count": null,
   "metadata": {},
   "outputs": [],
   "source": []
  },
  {
   "cell_type": "code",
   "execution_count": 483,
   "metadata": {},
   "outputs": [
    {
     "data": {
      "text/html": [
       "<div>\n",
       "<style scoped>\n",
       "    .dataframe tbody tr th:only-of-type {\n",
       "        vertical-align: middle;\n",
       "    }\n",
       "\n",
       "    .dataframe tbody tr th {\n",
       "        vertical-align: top;\n",
       "    }\n",
       "\n",
       "    .dataframe thead th {\n",
       "        text-align: right;\n",
       "    }\n",
       "</style>\n",
       "<table border=\"1\" class=\"dataframe\">\n",
       "  <thead>\n",
       "    <tr style=\"text-align: right;\">\n",
       "      <th></th>\n",
       "      <th>year</th>\n",
       "      <th>mileage</th>\n",
       "      <th>tax</th>\n",
       "      <th>mpg</th>\n",
       "      <th>engineSize</th>\n",
       "      <th>price</th>\n",
       "    </tr>\n",
       "  </thead>\n",
       "  <tbody>\n",
       "    <tr>\n",
       "      <th>0</th>\n",
       "      <td>-0.046448</td>\n",
       "      <td>-0.386817</td>\n",
       "      <td>0.357131</td>\n",
       "      <td>0.357533</td>\n",
       "      <td>-0.880177</td>\n",
       "      <td>-0.887480</td>\n",
       "    </tr>\n",
       "    <tr>\n",
       "      <th>1</th>\n",
       "      <td>-0.507810</td>\n",
       "      <td>0.483966</td>\n",
       "      <td>-1.578249</td>\n",
       "      <td>1.037081</td>\n",
       "      <td>0.114919</td>\n",
       "      <td>-0.546033</td>\n",
       "    </tr>\n",
       "    <tr>\n",
       "      <th>2</th>\n",
       "      <td>-0.507810</td>\n",
       "      <td>0.217771</td>\n",
       "      <td>-1.429373</td>\n",
       "      <td>0.357533</td>\n",
       "      <td>-0.880177</td>\n",
       "      <td>-1.015522</td>\n",
       "    </tr>\n",
       "    <tr>\n",
       "      <th>3</th>\n",
       "      <td>-0.046448</td>\n",
       "      <td>0.047851</td>\n",
       "      <td>0.282693</td>\n",
       "      <td>1.276468</td>\n",
       "      <td>0.114919</td>\n",
       "      <td>-0.520424</td>\n",
       "    </tr>\n",
       "    <tr>\n",
       "      <th>4</th>\n",
       "      <td>0.876277</td>\n",
       "      <td>-0.971240</td>\n",
       "      <td>0.282693</td>\n",
       "      <td>-0.090351</td>\n",
       "      <td>-1.543575</td>\n",
       "      <td>-0.477743</td>\n",
       "    </tr>\n",
       "  </tbody>\n",
       "</table>\n",
       "</div>"
      ],
      "text/plain": [
       "       year   mileage       tax       mpg  engineSize     price\n",
       "0 -0.046448 -0.386817  0.357131  0.357533   -0.880177 -0.887480\n",
       "1 -0.507810  0.483966 -1.578249  1.037081    0.114919 -0.546033\n",
       "2 -0.507810  0.217771 -1.429373  0.357533   -0.880177 -1.015522\n",
       "3 -0.046448  0.047851  0.282693  1.276468    0.114919 -0.520424\n",
       "4  0.876277 -0.971240  0.282693 -0.090351   -1.543575 -0.477743"
      ]
     },
     "execution_count": 483,
     "metadata": {},
     "output_type": "execute_result"
    }
   ],
   "source": [
    "ndf=(data-data.mean())/data.std()\n",
    "ndf.head()"
   ]
  },
  {
   "cell_type": "code",
   "execution_count": 484,
   "metadata": {},
   "outputs": [
    {
     "data": {
      "text/html": [
       "<div>\n",
       "<style scoped>\n",
       "    .dataframe tbody tr th:only-of-type {\n",
       "        vertical-align: middle;\n",
       "    }\n",
       "\n",
       "    .dataframe tbody tr th {\n",
       "        vertical-align: top;\n",
       "    }\n",
       "\n",
       "    .dataframe thead th {\n",
       "        text-align: right;\n",
       "    }\n",
       "</style>\n",
       "<table border=\"1\" class=\"dataframe\">\n",
       "  <thead>\n",
       "    <tr style=\"text-align: right;\">\n",
       "      <th></th>\n",
       "      <th>year</th>\n",
       "      <th>mileage</th>\n",
       "      <th>tax</th>\n",
       "      <th>mpg</th>\n",
       "      <th>engineSize</th>\n",
       "      <th>price</th>\n",
       "    </tr>\n",
       "  </thead>\n",
       "  <tbody>\n",
       "    <tr>\n",
       "      <th>year</th>\n",
       "      <td>1.000000</td>\n",
       "      <td>-0.789667</td>\n",
       "      <td>0.093066</td>\n",
       "      <td>-0.351281</td>\n",
       "      <td>-0.031582</td>\n",
       "      <td>0.592581</td>\n",
       "    </tr>\n",
       "    <tr>\n",
       "      <th>mileage</th>\n",
       "      <td>-0.789667</td>\n",
       "      <td>1.000000</td>\n",
       "      <td>-0.166547</td>\n",
       "      <td>0.395103</td>\n",
       "      <td>0.070710</td>\n",
       "      <td>-0.535357</td>\n",
       "    </tr>\n",
       "    <tr>\n",
       "      <th>tax</th>\n",
       "      <td>0.093066</td>\n",
       "      <td>-0.166547</td>\n",
       "      <td>1.000000</td>\n",
       "      <td>-0.635909</td>\n",
       "      <td>0.393075</td>\n",
       "      <td>0.356157</td>\n",
       "    </tr>\n",
       "    <tr>\n",
       "      <th>mpg</th>\n",
       "      <td>-0.351281</td>\n",
       "      <td>0.395103</td>\n",
       "      <td>-0.635909</td>\n",
       "      <td>1.000000</td>\n",
       "      <td>-0.365621</td>\n",
       "      <td>-0.600334</td>\n",
       "    </tr>\n",
       "    <tr>\n",
       "      <th>engineSize</th>\n",
       "      <td>-0.031582</td>\n",
       "      <td>0.070710</td>\n",
       "      <td>0.393075</td>\n",
       "      <td>-0.365621</td>\n",
       "      <td>1.000000</td>\n",
       "      <td>0.591262</td>\n",
       "    </tr>\n",
       "    <tr>\n",
       "      <th>price</th>\n",
       "      <td>0.592581</td>\n",
       "      <td>-0.535357</td>\n",
       "      <td>0.356157</td>\n",
       "      <td>-0.600334</td>\n",
       "      <td>0.591262</td>\n",
       "      <td>1.000000</td>\n",
       "    </tr>\n",
       "  </tbody>\n",
       "</table>\n",
       "</div>"
      ],
      "text/plain": [
       "                year   mileage       tax       mpg  engineSize     price\n",
       "year        1.000000 -0.789667  0.093066 -0.351281   -0.031582  0.592581\n",
       "mileage    -0.789667  1.000000 -0.166547  0.395103    0.070710 -0.535357\n",
       "tax         0.093066 -0.166547  1.000000 -0.635909    0.393075  0.356157\n",
       "mpg        -0.351281  0.395103 -0.635909  1.000000   -0.365621 -0.600334\n",
       "engineSize -0.031582  0.070710  0.393075 -0.365621    1.000000  0.591262\n",
       "price       0.592581 -0.535357  0.356157 -0.600334    0.591262  1.000000"
      ]
     },
     "execution_count": 484,
     "metadata": {},
     "output_type": "execute_result"
    }
   ],
   "source": [
    "ndf.corr()"
   ]
  },
  {
   "cell_type": "code",
   "execution_count": 485,
   "metadata": {},
   "outputs": [],
   "source": [
    "from sklearn.linear_model import LinearRegression\n",
    "from sklearn.model_selection import train_test_split"
   ]
  },
  {
   "cell_type": "code",
   "execution_count": 496,
   "metadata": {},
   "outputs": [
    {
     "name": "stdout",
     "output_type": "stream",
     "text": [
      "7467 3201\n"
     ]
    }
   ],
   "source": [
    "X = ndf[['year','mileage','tax','mpg','engineSize']].values\n",
    "y = ndf[['price']].values\n",
    "\n",
    "y2 = year2.values.reshape(-1,1)\n",
    "m2 = nm2.values.reshape(-1,1)\n",
    "en2 = nen2.values.reshape(-1,1)\n",
    "mp2 = nmp2.values.reshape(-1,1)\n",
    "mmp2 = nmmp2.values.reshape(-1,1)\n",
    "X = np.hstack((X,y2))\n",
    "X = np.hstack((X,m2))\n",
    "X = np.hstack((X,en2))\n",
    "X = np.hstack((X,mp2))\n",
    "X = np.hstack((X,mmp2))\n",
    "\n",
    "X_train,X_test,y_train,y_test = train_test_split(X,y,test_size = 0.3)\n",
    "print(len(X_train),len(X_test))"
   ]
  },
  {
   "cell_type": "code",
   "execution_count": 497,
   "metadata": {},
   "outputs": [
    {
     "data": {
      "text/plain": [
       "LinearRegression()"
      ]
     },
     "execution_count": 497,
     "metadata": {},
     "output_type": "execute_result"
    }
   ],
   "source": [
    "lr = LinearRegression()\n",
    "lr.fit(X_train,y_train)"
   ]
  },
  {
   "cell_type": "code",
   "execution_count": 498,
   "metadata": {},
   "outputs": [],
   "source": [
    "prediction = lr.predict(X_test)"
   ]
  },
  {
   "cell_type": "code",
   "execution_count": 499,
   "metadata": {},
   "outputs": [
    {
     "name": "stdout",
     "output_type": "stream",
     "text": [
      "[[ 0.78278975]\n",
      " [ 0.15258316]\n",
      " [-0.06478228]\n",
      " ...\n",
      " [-0.49954451]\n",
      " [-0.48458241]\n",
      " [ 0.91996463]]\n"
     ]
    }
   ],
   "source": [
    "print(prediction)"
   ]
  },
  {
   "cell_type": "code",
   "execution_count": 500,
   "metadata": {},
   "outputs": [
    {
     "name": "stdout",
     "output_type": "stream",
     "text": [
      "[[ 0.17868913]\n",
      " [ 0.00881915]\n",
      " [-0.33262805]\n",
      " ...\n",
      " [-0.41884347]\n",
      " [-0.27663071]\n",
      " [ 0.85287664]]\n"
     ]
    }
   ],
   "source": [
    "print(y_test)"
   ]
  },
  {
   "cell_type": "code",
   "execution_count": 501,
   "metadata": {},
   "outputs": [
    {
     "name": "stdout",
     "output_type": "stream",
     "text": [
      "0.7642488679733397\n",
      "[[-0.54620328]]\n"
     ]
    }
   ],
   "source": [
    "print(lr.score(X_test,y_test))\n",
    "\n",
    "print(y_train[:1])"
   ]
  },
  {
   "cell_type": "code",
   "execution_count": 502,
   "metadata": {},
   "outputs": [],
   "source": [
    "scores_test = []\n",
    "scores_train = []\n",
    "m = []\n",
    "\n",
    "for i in range(2,len(X_train)):\n",
    "    x_temp = X_train[:i,:]\n",
    "    y_temp = y_train[:i,:]\n",
    "    \n",
    "    temp_lr = LinearRegression()\n",
    "    temp_lr.fit(x_temp,y_temp)\n",
    "    \n",
    "    scores_test.append(temp_lr.score(X_test,y_test))\n",
    "    scores_train.append(temp_lr.score(X_train[:i,:],y_train[:i,:]))\n",
    "    m.append(i)\n",
    "\n",
    "\n",
    "    \n",
    "    "
   ]
  },
  {
   "cell_type": "code",
   "execution_count": 503,
   "metadata": {},
   "outputs": [
    {
     "name": "stdout",
     "output_type": "stream",
     "text": [
      "0.7642486196468229\n"
     ]
    }
   ],
   "source": [
    "print(scores_test[-1])"
   ]
  },
  {
   "cell_type": "code",
   "execution_count": 504,
   "metadata": {},
   "outputs": [
    {
     "name": "stdout",
     "output_type": "stream",
     "text": [
      "0.7795860950680016\n"
     ]
    }
   ],
   "source": [
    "print(scores_train[-1])"
   ]
  },
  {
   "cell_type": "code",
   "execution_count": 505,
   "metadata": {},
   "outputs": [
    {
     "data": {
      "image/png": "[encoded data removed]",
      "text/plain": [
       "<Figure size 432x288 with 1 Axes>"
      ]
     },
     "metadata": {
      "needs_background": "light"
     },
     "output_type": "display_data"
    }
   ],
   "source": [
    "plt.plot(m,scores_train,color = 'r')\n",
    "plt.plot(m,scores_test,color = 'b')\n",
    "plt.ylim([1,0])\n",
    "plt.show()\n",
    "#learningCurves"
   ]
  },
  {
   "cell_type": "code",
   "execution_count": 506,
   "metadata": {},
   "outputs": [
    {
     "name": "stdout",
     "output_type": "stream",
     "text": [
      "accuracy of each fold - [0.8060194038407272, 0.7784247255920624, 0.7155292067030201, 0.6808032185777415, 0.7718271936169488]\n",
      "Avg accuracy : 0.7505207496660999\n"
     ]
    }
   ],
   "source": [
    "from sklearn.model_selection import KFold\n",
    "from sklearn.metrics import accuracy_score\n",
    "k = 5\n",
    "kf = KFold(n_splits=k, random_state=None)\n",
    "acc_score = []\n",
    " \n",
    "for train_index , test_index in kf.split(X):\n",
    "    X_train , X_test = X[train_index,:],X[test_index,:]\n",
    "    y_train , y_test = y[train_index] , y[test_index]\n",
    "     \n",
    "    lr.fit(X_train,y_train)\n",
    "    pred_values = lr.predict(X_test)\n",
    "     \n",
    "    acc = lr.score(X_test , y_test)\n",
    "    acc_score.append(acc)\n",
    "     \n",
    "avg_acc_score = sum(acc_score)/k\n",
    " \n",
    "print('accuracy of each fold - {}'.format(acc_score))\n",
    "print('Avg accuracy : {}'.format(avg_acc_score))"
   ]
  },
  {
   "cell_type": "code",
   "execution_count": null,
   "metadata": {},
   "outputs": [],
   "source": []
  },
  {
   "cell_type": "code",
   "execution_count": null,
   "metadata": {},
   "outputs": [],
   "source": []
  },
  {
   "cell_type": "code",
   "execution_count": null,
   "metadata": {},
   "outputs": [],
   "source": []
  }
 ],
 "metadata": {
  "kernelspec": {
   "display_name": "Python 3",
   "language": "python",
   "name": "python3"
  },
  "language_info": {
   "codemirror_mode": {
    "name": "ipython",
    "version": 3
   },
   "file_extension": ".py",
   "mimetype": "text/x-python",
   "name": "python",
   "nbconvert_exporter": "python",
   "pygments_lexer": "ipython3",
   "version": "3.8.5"
  }
 },
 "nbformat": 4,
 "nbformat_minor": 4
}
